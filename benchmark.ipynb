{
 "cells": [
  {
   "attachments": {},
   "cell_type": "markdown",
   "metadata": {},
   "source": [
    "# Analysis of computer players playing against each other using different strategies and difficulties"
   ]
  },
  {
   "attachments": {},
   "cell_type": "markdown",
   "metadata": {},
   "source": [
    "Gathering data simulating all combinations of players (about 5.8 M) and storing them inside `benchmark.csv`\n",
    "(This takes quite a bit of time and processing power!):"
   ]
  },
  {
   "cell_type": "code",
   "execution_count": null,
   "metadata": {},
   "outputs": [],
   "source": [
    "!python3 benchmark.py"
   ]
  },
  {
   "attachments": {},
   "cell_type": "markdown",
   "metadata": {},
   "source": [
    "Installing and importing packages:"
   ]
  },
  {
   "cell_type": "code",
   "execution_count": null,
   "metadata": {},
   "outputs": [],
   "source": [
    "!python3 -m pip install -r requirements.txt"
   ]
  },
  {
   "cell_type": "code",
   "execution_count": 1,
   "metadata": {},
   "outputs": [],
   "source": [
    "import pandas as pd"
   ]
  },
  {
   "attachments": {},
   "cell_type": "markdown",
   "metadata": {},
   "source": [
    "Reading data from `benchmark.csv`:"
   ]
  },
  {
   "cell_type": "code",
   "execution_count": 2,
   "metadata": {},
   "outputs": [
    {
     "name": "stdout",
     "output_type": "stream",
     "text": [
      "           X_strategy    O_strategy  X_difficulty  O_difficulty winner\n",
      "0        [0, 0, 0, 0]  [0, 0, 0, 0]             0             0      X\n",
      "1        [0, 0, 0, 0]  [0, 0, 0, 0]             0             1      X\n",
      "2        [0, 0, 0, 0]  [0, 0, 0, 0]             0             2      O\n",
      "3        [0, 0, 0, 0]  [0, 0, 0, 0]             0             3      O\n",
      "4        [0, 0, 0, 0]  [0, 0, 0, 0]             1             0      X\n",
      "...               ...           ...           ...           ...    ...\n",
      "5806075  [8, 6, 4, 2]  [7, 5, 3, 1]             2             3      O\n",
      "5806076  [8, 6, 4, 2]  [7, 5, 3, 1]             3             0      X\n",
      "5806077  [8, 6, 4, 2]  [7, 5, 3, 1]             3             1      X\n",
      "5806078  [8, 6, 4, 2]  [7, 5, 3, 1]             3             2      T\n",
      "5806079  [8, 6, 4, 2]  [7, 5, 3, 1]             3             3      T\n",
      "\n",
      "[5806080 rows x 5 columns]\n"
     ]
    }
   ],
   "source": [
    "data = pd.read_csv(\n",
    "    \"benchmark.csv\", sep=\";\", header=None, names=[\n",
    "    'X_strategy',\n",
    "    'O_strategy',\n",
    "    'X_difficulty',\n",
    "    'O_difficulty',\n",
    "    'winner'\n",
    "])\n",
    "\n",
    "print(data)"
   ]
  },
  {
   "attachments": {},
   "cell_type": "markdown",
   "metadata": {},
   "source": [
    "Summarizing data:"
   ]
  },
  {
   "cell_type": "code",
   "execution_count": 3,
   "metadata": {},
   "outputs": [
    {
     "name": "stdout",
     "output_type": "stream",
     "text": [
      "X won:\n",
      "    X_difficulty  O_difficulty winner   count\n",
      "2              0             0      X  185472\n",
      "5              0             1      X  131520\n",
      "8              0             2      X   43136\n",
      "13             1             0      X  190144\n",
      "16             1             1      X  134976\n",
      "19             1             2      X   47648\n",
      "24             2             0      X  260608\n",
      "27             2             1      X  177760\n",
      "30             2             2      X   95488\n",
      "34             3             0      X  329200\n",
      "36             3             1      X  258000\n",
      "38             3             2      X  117376\n",
      "\n",
      "O won:\n",
      "    X_difficulty  O_difficulty winner   count\n",
      "0              0             0      O  122112\n",
      "3              0             1      O  152064\n",
      "6              0             2      O  235104\n",
      "9              0             3      O  283136\n",
      "11             1             0      O  113984\n",
      "14             1             1      O  139200\n",
      "17             1             2      O  217440\n",
      "20             1             3      O  265344\n",
      "22             2             0      O   45568\n",
      "25             2             1      O   60448\n",
      "28             2             2      O   67776\n",
      "31             2             3      O  135552\n",
      "\n",
      "Tie:\n",
      "    X_difficulty  O_difficulty winner   count\n",
      "1              0             0      T   55296\n",
      "4              0             1      T   79296\n",
      "7              0             2      T   84640\n",
      "10             0             3      T   79744\n",
      "12             1             0      T   58752\n",
      "15             1             1      T   88704\n",
      "18             1             2      T   97792\n",
      "21             1             3      T   97536\n",
      "23             2             0      T   56704\n",
      "26             2             1      T  124672\n",
      "29             2             2      T  199616\n",
      "32             2             3      T  227328\n",
      "33             3             0      T   33680\n",
      "35             3             1      T  104880\n",
      "37             3             2      T  245504\n",
      "39             3             3      T  362880\n"
     ]
    }
   ],
   "source": [
    "summarized = data.groupby([\n",
    "    \"X_difficulty\",\n",
    "    \"O_difficulty\",\n",
    "    \"winner\"\n",
    "]).size().reset_index().rename(columns={0: 'count'})\n",
    "\n",
    "o_won = summarized.loc[summarized['winner'] == 'O']\n",
    "x_won = summarized.loc[summarized['winner'] == 'X']\n",
    "ties = summarized.loc[summarized['winner'] == 'T']\n",
    "\n",
    "print(\"X won:\")\n",
    "print(x_won)\n",
    "print()\n",
    "print(\"O won:\")\n",
    "print(o_won)\n",
    "print()\n",
    "print(\"Tie:\")\n",
    "print(ties)\n"
   ]
  },
  {
   "attachments": {},
   "cell_type": "markdown",
   "metadata": {},
   "source": [
    "Creating pivot tables:"
   ]
  },
  {
   "cell_type": "code",
   "execution_count": 4,
   "metadata": {},
   "outputs": [
    {
     "name": "stdout",
     "output_type": "stream",
     "text": [
      "X won:\n",
      "O_difficulty       0       1       2  3\n",
      "X_difficulty                           \n",
      "0             185472  131520   43136  0\n",
      "1             190144  134976   47648  0\n",
      "2             260608  177760   95488  0\n",
      "3             329200  258000  117376  0\n",
      "\n",
      "O won:\n",
      "O_difficulty       0       1       2       3\n",
      "X_difficulty                                \n",
      "0             122112  152064  235104  283136\n",
      "1             113984  139200  217440  265344\n",
      "2              45568   60448   67776  135552\n",
      "3                  0       0       0       0\n",
      "\n",
      "Tie:\n",
      "O_difficulty      0       1       2       3\n",
      "X_difficulty                               \n",
      "0             55296   79296   84640   79744\n",
      "1             58752   88704   97792   97536\n",
      "2             56704  124672  199616  227328\n",
      "3             33680  104880  245504  362880\n"
     ]
    }
   ],
   "source": [
    "x_won_pivot = x_won.pivot(index='X_difficulty', columns='O_difficulty', values='count')\n",
    "o_won_pivot = o_won.pivot(index='X_difficulty', columns='O_difficulty', values='count')\n",
    "ties_pivot = ties.pivot(index='X_difficulty', columns='O_difficulty', values='count')\n",
    "\n",
    "x_won_pivot[3] = [0, 0, 0, 0]\n",
    "o_won_pivot.loc[len(o_won_pivot)] = [0, 0, 0, 0]\n",
    "\n",
    "print(\"X won:\")\n",
    "print(x_won_pivot)\n",
    "print()\n",
    "print(\"O won:\")\n",
    "print(o_won_pivot)\n",
    "print()\n",
    "print(\"Tie:\")\n",
    "print(ties_pivot)"
   ]
  },
  {
   "attachments": {},
   "cell_type": "markdown",
   "metadata": {},
   "source": [
    "Adding pivot tables together:"
   ]
  },
  {
   "cell_type": "code",
   "execution_count": 5,
   "metadata": {},
   "outputs": [
    {
     "name": "stdout",
     "output_type": "stream",
     "text": [
      "O_difficulty       0       1       2       3\n",
      "X_difficulty                                \n",
      "0             362880  362880  362880  362880\n",
      "1             362880  362880  362880  362880\n",
      "2             362880  362880  362880  362880\n",
      "3             362880  362880  362880  362880\n"
     ]
    }
   ],
   "source": [
    "summed = x_won_pivot.add(o_won_pivot).add(ties_pivot)\n",
    "print(summed)"
   ]
  },
  {
   "attachments": {},
   "cell_type": "markdown",
   "metadata": {},
   "source": [
    "Calculating ratios:"
   ]
  },
  {
   "cell_type": "code",
   "execution_count": 6,
   "metadata": {},
   "outputs": [
    {
     "name": "stdout",
     "output_type": "stream",
     "text": [
      "X won:\n",
      "O_difficulty         0         1         2    3\n",
      "X_difficulty                                   \n",
      "0             0.511111  0.362434  0.118871  0.0\n",
      "1             0.523986  0.371958  0.131305  0.0\n",
      "2             0.718166  0.489859  0.263139  0.0\n",
      "3             0.907187  0.710979  0.323457  0.0\n",
      "\n",
      "O won:\n",
      "O_difficulty         0         1         2         3\n",
      "X_difficulty                                        \n",
      "0             0.336508  0.419048  0.647884  0.780247\n",
      "1             0.314109  0.383598  0.599206  0.731217\n",
      "2             0.125573  0.166578  0.186772  0.373545\n",
      "3             0.000000  0.000000  0.000000  0.000000\n",
      "\n",
      "Ties:\n",
      "O_difficulty         0         1         2         3\n",
      "X_difficulty                                        \n",
      "0             0.152381  0.218519  0.233245  0.219753\n",
      "1             0.161905  0.244444  0.269489  0.268783\n",
      "2             0.156261  0.343563  0.550088  0.626455\n",
      "3             0.092813  0.289021  0.676543  1.000000\n"
     ]
    }
   ],
   "source": [
    "x_won_ratios = x_won_pivot.div(summed)\n",
    "o_won_ratios = o_won_pivot.div(summed)\n",
    "ties_ratios = ties_pivot.div(summed)\n",
    "\n",
    "print(\"X won:\")\n",
    "print(x_won_ratios)\n",
    "print()\n",
    "print(\"O won:\")\n",
    "print(o_won_ratios)\n",
    "print()\n",
    "print(\"Ties:\")\n",
    "print(ties_ratios)"
   ]
  }
 ],
 "metadata": {
  "kernelspec": {
   "display_name": "Python 3",
   "language": "python",
   "name": "python3"
  },
  "language_info": {
   "codemirror_mode": {
    "name": "ipython",
    "version": 3
   },
   "file_extension": ".py",
   "mimetype": "text/x-python",
   "name": "python",
   "nbconvert_exporter": "python",
   "pygments_lexer": "ipython3",
   "version": "3.10.6"
  },
  "orig_nbformat": 4,
  "vscode": {
   "interpreter": {
    "hash": "916dbcbb3f70747c44a77c7bcd40155683ae19c65e1c03b4aa3499c5328201f1"
   }
  }
 },
 "nbformat": 4,
 "nbformat_minor": 2
}
